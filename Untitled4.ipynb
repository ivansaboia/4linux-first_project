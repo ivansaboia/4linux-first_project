{
  "nbformat": 4,
  "nbformat_minor": 0,
  "metadata": {
    "colab": {
      "provenance": [],
      "authorship_tag": "ABX9TyM6raIjHl/tSD/VotV/XO93",
      "include_colab_link": true
    },
    "kernelspec": {
      "name": "python3",
      "display_name": "Python 3"
    },
    "language_info": {
      "name": "python"
    }
  },
  "cells": [
    {
      "cell_type": "markdown",
      "metadata": {
        "id": "view-in-github",
        "colab_type": "text"
      },
      "source": [
        "<a href=\"https://colab.research.google.com/github/ivansaboia/4linux-first_project/blob/master/Untitled4.ipynb\" target=\"_parent\"><img src=\"https://colab.research.google.com/assets/colab-badge.svg\" alt=\"Open In Colab\"/></a>"
      ]
    },
    {
      "cell_type": "code",
      "execution_count": 1,
      "metadata": {
        "colab": {
          "base_uri": "https://localhost:8080/"
        },
        "id": "MgGSzuxmdjY4",
        "outputId": "475c63e7-83d6-4f71-acd7-6b3cb468a5a9"
      },
      "outputs": [
        {
          "output_type": "stream",
          "name": "stderr",
          "text": [
            "<>:11: SyntaxWarning: invalid escape sequence '\\s'\n",
            "<>:18: SyntaxWarning: invalid escape sequence '\\s'\n",
            "<>:25: SyntaxWarning: invalid escape sequence '\\s'\n",
            "<>:32: SyntaxWarning: invalid escape sequence '\\s'\n",
            "<>:11: SyntaxWarning: invalid escape sequence '\\s'\n",
            "<>:18: SyntaxWarning: invalid escape sequence '\\s'\n",
            "<>:25: SyntaxWarning: invalid escape sequence '\\s'\n",
            "<>:32: SyntaxWarning: invalid escape sequence '\\s'\n",
            "/tmp/ipython-input-1443794652.py:11: SyntaxWarning: invalid escape sequence '\\s'\n",
            "  df_cpu = pd.read_csv(cpu_file, sep=\"\\s+\", header=None,\n",
            "/tmp/ipython-input-1443794652.py:18: SyntaxWarning: invalid escape sequence '\\s'\n",
            "  df_mem = pd.read_csv(mem_file, sep=\"\\s+\", header=None,\n",
            "/tmp/ipython-input-1443794652.py:25: SyntaxWarning: invalid escape sequence '\\s'\n",
            "  df_disk = pd.read_csv(disk_file, sep=\"\\s+\", header=None,\n",
            "/tmp/ipython-input-1443794652.py:32: SyntaxWarning: invalid escape sequence '\\s'\n",
            "  df_net = pd.read_csv(net_file, sep=\"\\s+\", header=None,\n"
          ]
        },
        {
          "output_type": "stream",
          "name": "stdout",
          "text": [
            "✅ Gráficos salvos em: monitoramento_graficos\n"
          ]
        }
      ],
      "source": [
        "import pandas as pd\n",
        "import matplotlib.pyplot as plt\n",
        "import os\n",
        "\n",
        "def process_monitoring_files(base_path=\".\"):\n",
        "    data = {}\n",
        "\n",
        "    # CPU\n",
        "    cpu_file = os.path.join(base_path, \"monitoramento-cpu.txt\")\n",
        "    if os.path.exists(cpu_file):\n",
        "        df_cpu = pd.read_csv(cpu_file, sep=\"\\s+\", header=None,\n",
        "                             names=[\"usr\",\"sys\",\"iowait\",\"idle\",\"date\",\"time\",\"elapsed\"])\n",
        "        data[\"cpu\"] = df_cpu\n",
        "\n",
        "    # Memória\n",
        "    mem_file = os.path.join(base_path, \"monitoramento-memoria.txt\")\n",
        "    if os.path.exists(mem_file):\n",
        "        df_mem = pd.read_csv(mem_file, sep=\"\\s+\", header=None,\n",
        "                             names=[\"used\",\"free\",\"buffers\",\"cached\",\"swap_used\",\"swap_free\",\"date\",\"time\",\"elapsed\"])\n",
        "        data[\"mem\"] = df_mem\n",
        "\n",
        "    # Disco\n",
        "    disk_file = os.path.join(base_path, \"monitoramento-iostat.txt\")\n",
        "    if os.path.exists(disk_file):\n",
        "        df_disk = pd.read_csv(disk_file, sep=\"\\s+\", header=None,\n",
        "                              names=[\"read\",\"write\",\"queue\",\"util\",\"date\",\"time\",\"elapsed\"])\n",
        "        data[\"disk\"] = df_disk\n",
        "\n",
        "    # Rede\n",
        "    net_file = os.path.join(base_path, \"monitoramento-bandwidth.txt\")\n",
        "    if os.path.exists(net_file):\n",
        "        df_net = pd.read_csv(net_file, sep=\"\\s+\", header=None,\n",
        "                             names=[\"TX_label\",\"iface1\",\"TX\",\"kB1\",\"RX_label\",\"iface2\",\"RX\",\"kB2\",\"date\",\"time\",\"elapsed\"],\n",
        "                             engine=\"python\")\n",
        "        df_net = pd.DataFrame({\n",
        "            \"tx_kB_s\": pd.to_numeric(df_net[\"TX\"], errors=\"coerce\"),\n",
        "            \"rx_kB_s\": pd.to_numeric(df_net[\"RX\"], errors=\"coerce\"),\n",
        "            \"elapsed\": df_net[\"elapsed\"]\n",
        "        })\n",
        "        data[\"net\"] = df_net\n",
        "\n",
        "    return data\n",
        "\n",
        "def generate_graphs(data, output_dir=\"monitoramento_graficos\"):\n",
        "    os.makedirs(output_dir, exist_ok=True)\n",
        "\n",
        "    for key, df in data.items():\n",
        "        for col in df.columns:\n",
        "            if col not in [\"date\", \"time\"]:\n",
        "                plt.figure()\n",
        "                plt.plot(df[\"elapsed\"], df[col], marker=\"o\", linestyle=\"-\")\n",
        "                plt.xlabel(\"Tempo (s)\")\n",
        "                plt.ylabel(col)\n",
        "                plt.title(f\"{key.upper()} - {col}\")\n",
        "                plt.grid(True)\n",
        "                plt.savefig(os.path.join(output_dir, f\"{key}_{col}.png\"))\n",
        "                plt.close()\n",
        "\n",
        "    print(f\"✅ Gráficos salvos em: {output_dir}\")\n",
        "\n",
        "if __name__ == \"__main__\":\n",
        "    data = process_monitoring_files(\".\")\n",
        "    generate_graphs(data)\n"
      ]
    }
  ]
}